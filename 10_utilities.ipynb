{
 "cells": [
  {
   "cell_type": "raw",
   "metadata": {},
   "source": [
    "# Utilities\n",
    "> Utilities to assist in interacting with GPSTime objects"
   ]
  },
  {
   "cell_type": "code",
   "execution_count": null,
   "metadata": {},
   "outputs": [],
   "source": [
    "#| default_exp utilities"
   ]
  },
  {
   "cell_type": "code",
   "execution_count": null,
   "metadata": {},
   "outputs": [],
   "source": [
    "#| export\n",
    "\"\"\"Copyright 2020 The Aerospace Corporation\"\"\""
   ]
  },
  {
   "cell_type": "code",
   "execution_count": null,
   "metadata": {},
   "outputs": [],
   "source": [
    "#| include: false\n",
    "from nbdev.showdoc import *\n",
    "# from fastcore.nb_imports import *"
   ]
  },
  {
   "cell_type": "code",
   "execution_count": null,
   "metadata": {},
   "outputs": [],
   "source": [
    "#| export\n",
    "\n",
    "import numpy as np\n",
    "\n",
    "from typing import List\n",
    "from logging import getLogger\n",
    "\n",
    "from gps_time.core import GPSTime\n"
   ]
  },
  {
   "cell_type": "code",
   "execution_count": null,
   "metadata": {},
   "outputs": [],
   "source": [
    "#| export\n",
    "logger = getLogger(__name__)"
   ]
  },
  {
   "cell_type": "code",
   "execution_count": null,
   "metadata": {},
   "outputs": [],
   "source": [
    "#| export\n",
    "def arange_gpstime(\n",
    "    start_gpstime: GPSTime, duration_s: float, step_ms: float\n",
    ") -> List[GPSTime]:\n",
    "    \"\"\"Create a list of GPSTimes in sequence.\n",
    "\n",
    "    The purpose of this function is to create a list that represents a\n",
    "    sequence of GPSTimes of the specified duration with the specified step\n",
    "    size.\n",
    "\n",
    "    This function is an analogue of the `numpy.arange()` function, but\n",
    "    operates on GPSTimes.\n",
    "\n",
    "    Parameters\n",
    "    ----------\n",
    "    start_gpstime : GPSTime\n",
    "        The GPSTime to start the sequence\n",
    "    duration_s : float\n",
    "        The duration of the sequence, in seconds\n",
    "    step_ms : float\n",
    "        The step size, in milliseconds\n",
    "\n",
    "    Returns\n",
    "    -------\n",
    "    List[GPSTime]\n",
    "        The sequence of GPSTimes\n",
    "\n",
    "    Notes\n",
    "    -----\n",
    "    Like `numpy.arange`, this does not include the final element. That is, if\n",
    "    the start is at 0 with a duration of 5 and step of 1, the sequence would\n",
    "    return [0, 1, 2, 3, 4]\n",
    "\n",
    "    See Also\n",
    "    --------\n",
    "    `numpy.arange()`\n",
    "    `arange_datetime()`\n",
    "\n",
    "    Todo\n",
    "    ----\n",
    "    .. todo:: Determine if this still works if a np.ndarray is returned\n",
    "        instead of a list\n",
    "\n",
    "    \"\"\"\n",
    "    return list(start_gpstime + np.arange(0, duration_s, step_ms / 1000))"
   ]
  },
  {
   "cell_type": "code",
   "execution_count": null,
   "metadata": {},
   "outputs": [],
   "source": [
    "#| export\n",
    "def validate_gps_week(full_week: int, gps_week: int) -> None:\n",
    "    \"\"\"Validate that the week numbers are consistent.\n",
    "\n",
    "    This function validates that the full GPS week number (i.e. the number of\n",
    "    weeks since 6 Jan 1980) and the mod-1024 week numbers are consistent. If\n",
    "    they are not, it raises an error.\n",
    "\n",
    "    Parameters\n",
    "    ----------\n",
    "    full_week : int\n",
    "        The number of weeks since 6 Jan 1980\n",
    "    gps_week : int\n",
    "        The mod-1024 GPS week\n",
    "\n",
    "    Returns\n",
    "    -------\n",
    "    None\n",
    "    \"\"\"\n",
    "\n",
    "    \"\"\"\n",
    "    Raises\n",
    "    ------\n",
    "    ValueError\n",
    "        If the `full_week` and `gps_week` disagree\n",
    "\n",
    "    \"\"\"\n",
    "    if full_week % 1024 != gps_week:\n",
    "        raise ValueError(\n",
    "            \"\".join([\"Full GPS Week {} must be mod 1024 of \", \"GPS Week {}\"]).format(\n",
    "                full_week, gps_week\n",
    "            )\n",
    "        )"
   ]
  }
 ],
 "metadata": {
  "kernelspec": {
   "display_name": "python3",
   "language": "python",
   "name": "python3"
  }
 },
 "nbformat": 4,
 "nbformat_minor": 4
}
