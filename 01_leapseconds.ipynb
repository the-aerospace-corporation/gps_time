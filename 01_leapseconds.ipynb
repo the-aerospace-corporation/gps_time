{
 "cells": [
  {
   "cell_type": "raw",
   "metadata": {},
   "source": [
    "# Leap Second Information\n",
    "\n",
    "> Contains information to account for leap seconds for converting from GPS time to UTC."
   ]
  },
  {
   "cell_type": "code",
   "execution_count": null,
   "metadata": {},
   "outputs": [],
   "source": [
    "#| default_exp leapseconds"
   ]
  },
  {
   "cell_type": "code",
   "execution_count": null,
   "metadata": {},
   "outputs": [
    {
     "data": {
      "text/plain": [
       "'Copyright 2020 The Aerospace Corporation'"
      ]
     },
     "execution_count": null,
     "metadata": {},
     "output_type": "execute_result"
    }
   ],
   "source": [
    "#| export\n",
    "\"\"\"Copyright 2020 The Aerospace Corporation\"\"\""
   ]
  },
  {
   "cell_type": "code",
   "execution_count": null,
   "metadata": {},
   "outputs": [],
   "source": [
    "#| include: false\n",
    "from nbdev.showdoc import *\n",
    "from fastcore.nb_imports import *"
   ]
  },
  {
   "cell_type": "code",
   "execution_count": null,
   "metadata": {},
   "outputs": [],
   "source": [
    "#| export\n",
    "import datetime\n",
    "\n",
    "from typing import List, Union, Optional, Tuple\n",
    "from logging import getLogger\n",
    "\n",
    "from gps_time.core import GPSTime"
   ]
  },
  {
   "cell_type": "code",
   "execution_count": null,
   "metadata": {},
   "outputs": [],
   "source": [
    "#| export\n",
    "logger = getLogger(__name__)"
   ]
  },
  {
   "cell_type": "markdown",
   "metadata": {},
   "source": [
    "## LeapSeconds\n",
    "\n",
    "This class is used to store the historical times of leap seconds. The number of leap seconds is accurate through 31 Dec 2020, which is all of the planned leap seconds at the time of writing (20 March 2024). There is no leap second planned for 30 Jun 2024, so the next possible leap second is 31 Dec 2024 23:59:60. However, the general expectation is that there will be no leap seconds in the near future. The BIPM expects to eliminate leap seconds by 2035, with options for potential replacements being considers. This class will need to be updated if/when future leap seconds are planned."
   ]
  },
  {
   "cell_type": "code",
   "execution_count": null,
   "metadata": {},
   "outputs": [],
   "source": [
    "#| export\n",
    "class LeapSeconds:\n",
    "    \"\"\"Determine the number of leap seconds.\n",
    "\n",
    "    The purpose of this class is to provide a place to store leap second\n",
    "    information. It has two methods: one to get the number of leap seconds at\n",
    "    a given time and one to get the next leap second.\n",
    "\n",
    "\n",
    "    \"\"\"\n",
    "\n",
    "    _leap_seconds: List[List[Union[GPSTime, int]]] = [\n",
    "        [GPSTime.from_datetime(time=datetime.datetime(year=1981, month=6, day=30, hour=23, minute=59, second=59, tzinfo=datetime.UTC)) + 1, 1],\n",
    "        [GPSTime.from_datetime(time=datetime.datetime(year=1982, month=6, day=30, hour=23, minute=59, second=59, tzinfo=datetime.UTC)) + 1, 2],\n",
    "        [GPSTime.from_datetime(time=datetime.datetime(year=1983, month=6, day=30, hour=23, minute=59, second=59, tzinfo=datetime.UTC)) + 1, 3],\n",
    "        [GPSTime.from_datetime(time=datetime.datetime(year=1985, month=6, day=30, hour=23, minute=59, second=59, tzinfo=datetime.UTC)) + 1, 4],\n",
    "        [GPSTime.from_datetime(time=datetime.datetime(year=1987, month=12, day=31, hour=23, minute=59, second=59, tzinfo=datetime.UTC)) + 1, 5],\n",
    "        [GPSTime.from_datetime(time=datetime.datetime(year=1989, month=12, day=31, hour=23, minute=59, second=59, tzinfo=datetime.UTC)) + 1, 6],\n",
    "        [GPSTime.from_datetime(time=datetime.datetime(year=1990, month=12, day=31, hour=23, minute=59, second=59, tzinfo=datetime.UTC)) + 1, 7],\n",
    "        [GPSTime.from_datetime(time=datetime.datetime(year=1992, month=6, day=30, hour=23, minute=59, second=59, tzinfo=datetime.UTC)) + 1, 8],\n",
    "        [GPSTime.from_datetime(time=datetime.datetime(year=1993, month=6, day=30, hour=23, minute=59, second=59, tzinfo=datetime.UTC)) + 1, 9],\n",
    "        [GPSTime.from_datetime(time=datetime.datetime(year=1994, month=6, day=30, hour=23, minute=59, second=59, tzinfo=datetime.UTC)) + 1, 10],\n",
    "        [GPSTime.from_datetime(time=datetime.datetime(year=1995, month=12, day=31, hour=23, minute=59, second=59, tzinfo=datetime.UTC)) + 1, 11],\n",
    "        [GPSTime.from_datetime(time=datetime.datetime(year=1997, month=6, day=30, hour=23, minute=59, second=59, tzinfo=datetime.UTC)) + 1, 12],\n",
    "        [GPSTime.from_datetime(time=datetime.datetime(year=1998, month=12, day=31, hour=23, minute=59, second=59, tzinfo=datetime.UTC)) + 1, 13],\n",
    "        [GPSTime.from_datetime(time=datetime.datetime(year=2005, month=12, day=31, hour=23, minute=59, second=59, tzinfo=datetime.UTC)) + 1, 14],\n",
    "        [GPSTime.from_datetime(time=datetime.datetime(year=2008, month=12, day=31, hour=23, minute=59, second=59, tzinfo=datetime.UTC)) + 1, 15],\n",
    "        [GPSTime.from_datetime(time=datetime.datetime(year=2012, month=6, day=30, hour=23, minute=59, second=59, tzinfo=datetime.UTC)) + 1, 16],\n",
    "        [GPSTime.from_datetime(time=datetime.datetime(year=2015, month=6, day=30, hour=23, minute=59, second=59, tzinfo=datetime.UTC)) + 1, 17],\n",
    "        [GPSTime.from_datetime(time=datetime.datetime(year=2016, month=12, day=31, hour=23, minute=59, second=59, tzinfo=datetime.UTC)) + 1, 18],\n",
    "    ]\n",
    "    \"\"\"Table of Leap Seconds, note that the leap second occues at midnight, but before the next day.\"\"\"\n",
    "\n",
    "    @classmethod\n",
    "    def get_leap_seconds(cls, time: GPSTime) -> int:\n",
    "        \"\"\"Get the current number of leap seconds.\n",
    "\n",
    "        Parameters\n",
    "        ----------\n",
    "        time : GPSTime\n",
    "            The time at which to find the number of leap seconds\n",
    "\n",
    "        Returns\n",
    "        -------\n",
    "        int\n",
    "            The number of leap seconds at time\n",
    "\n",
    "        \"\"\"\n",
    "        if time > datetime.datetime(2020, 12, 31, 23, 59, 59):\n",
    "            logger.warning(\n",
    "                \"Leap seconds only current through 31 Dec 2020. Any future \"\n",
    "                \"leap seconds not included. Update when available.\"\n",
    "            )\n",
    "\n",
    "        if time < cls._leap_seconds[0][0]:\n",
    "            return 0\n",
    "        else:\n",
    "            for _ls in cls._leap_seconds[::-1]:\n",
    "                if time > _ls[0]:\n",
    "                    return _ls[1]\n",
    "\n",
    "    @classmethod\n",
    "    def get_next_leap_second(cls, time: GPSTime) -> Optional[Tuple[GPSTime, int]]:\n",
    "        \"\"\"Get the next leap second.\n",
    "\n",
    "        This method is used to compute the next leap second from the given\n",
    "        time. If the time is after the most recent leap second update and\n",
    "        there is no planned future leap second, this will return a None\n",
    "        indicating no planned update.\n",
    "\n",
    "\n",
    "        Parameters\n",
    "        ----------\n",
    "        time : GPSTime\n",
    "            The time for which the next leap second is desired\n",
    "\n",
    "        Returns\n",
    "        -------\n",
    "        Optional[Tuple[GPSTime, int]]\n",
    "            A tuple containing the GPSTime of the next leap second and the\n",
    "            number of leap seconds at that time. If the next leap second from\n",
    "            the desired time is not known, than None is returned.\n",
    "\n",
    "        \"\"\"\n",
    "        if time > datetime.datetime(2020, 12, 31, 23, 59, 59):\n",
    "            logger.warning(\n",
    "                \"Leap seconds only current through 31 Dec 2020. Any future \"\n",
    "                \"leap seconds not included. Update when available.\"\n",
    "            )\n",
    "\n",
    "        if time < cls._leap_seconds[0][0]:\n",
    "            return cls._leap_seconds[0]\n",
    "        elif time > cls._leap_seconds[-1][0]:\n",
    "            return None\n",
    "        else:\n",
    "            for _ls in cls._leap_seconds:\n",
    "                if time < _ls[0]:\n",
    "                    return _ls"
   ]
  },
  {
   "cell_type": "code",
   "execution_count": null,
   "metadata": {},
   "outputs": [],
   "source": [
    "#| export\n",
    "def gps2utc(gps_time: Union[GPSTime, datetime.datetime]) -> datetime.datetime:\n",
    "    \"\"\"Convert GPS Time to UTC Time\n",
    "\n",
    "    This function adjust the GPS Time using the number of leap seconds to get\n",
    "    the UTC time.\n",
    "\n",
    "    Parameters\n",
    "    ----------\n",
    "    gps_time : Union[GPSTime, datetime.datetime]\n",
    "        The current GPS Time\n",
    "\n",
    "    Returns\n",
    "    -------\n",
    "    datetime.datetime\n",
    "        The UTC Time\n",
    "\n",
    "    \"\"\"\n",
    "    if isinstance(gps_time, datetime.datetime):\n",
    "        if gps_time.tzinfo is None:\n",
    "            gps_time = gps_time.replace(tzinfo=datetime.UTC)\n",
    "        gps_time = GPSTime.from_datetime(gps_time)\n",
    "\n",
    "    assert isinstance(gps_time, GPSTime), \"gps_time must be a GPSTime or datetime\"\n",
    "\n",
    "    leap_seconds = LeapSeconds.get_leap_seconds(gps_time)\n",
    "    utc_time = gps_time - leap_seconds\n",
    "\n",
    "    return utc_time.to_datetime()"
   ]
  },
  {
   "cell_type": "code",
   "execution_count": null,
   "metadata": {},
   "outputs": [],
   "source": [
    "#| export\n",
    "def utc2gps(utc_time: datetime.datetime) -> GPSTime:\n",
    "    \"\"\"Convert UTC Time to GPS Time\n",
    "\n",
    "    This function adjust the UTC Time using the number of leap seconds to get\n",
    "    the GPS time.\n",
    "\n",
    "    Parameters\n",
    "    ----------\n",
    "    utc_time : datetime.datetime\n",
    "        The current UTC Time\n",
    "\n",
    "    Returns\n",
    "    -------\n",
    "    GPSTime\n",
    "        The GPS Time\n",
    "\n",
    "    \"\"\"\n",
    "    assert isinstance(utc_time, datetime.datetime), \"utc_time must be a datetime\"\n",
    "\n",
    "    if utc_time.tzinfo != datetime.UTC:\n",
    "        logger.warning(\"utc2gps() was passed a datetime object not in the UTC time zone. May cause unintended behavior\")\n",
    "\n",
    "    leap_seconds = LeapSeconds.get_leap_seconds(GPSTime.from_datetime(utc_time))\n",
    "    gps_time = GPSTime.from_datetime(utc_time) + leap_seconds\n",
    "\n",
    "    return gps_time"
   ]
  },
  {
   "cell_type": "code",
   "execution_count": null,
   "metadata": {},
   "outputs": [
    {
     "name": "stdout",
     "output_type": "stream",
     "text": [
      "2018-05-06 00:22:04.324000+00:00\n",
      "2018-05-06 00:21:46.324000+00:00\n",
      "2018-05-06 00:22:04.324000+00:00\n"
     ]
    }
   ],
   "source": [
    "#| include: false\n",
    "test_gps_time = GPSTime(2000, 1324.324)\n",
    "\n",
    "print(test_gps_time.to_datetime())\n",
    "print(gps2utc(test_gps_time))\n",
    "print(utc2gps(gps2utc(test_gps_time)).to_datetime())"
   ]
  },
  {
   "cell_type": "code",
   "execution_count": null,
   "metadata": {},
   "outputs": [],
   "source": [
    "#| hide\n",
    "import nbdev; nbdev.nbdev_export()"
   ]
  }
 ],
 "metadata": {
  "kernelspec": {
   "display_name": "python3",
   "language": "python",
   "name": "python3"
  },
  "language_info": {
   "name": "python",
   "version": "3.11.9"
  }
 },
 "nbformat": 4,
 "nbformat_minor": 4
}
