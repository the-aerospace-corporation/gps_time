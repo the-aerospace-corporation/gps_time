{
 "cells": [
  {
   "cell_type": "raw",
   "metadata": {},
   "source": [
    "---\n",
    "description: Tools for handling time related to GPS\n",
    "output-file: index.html\n",
    "title: gps_time\n",
    "\n",
    "---\n",
    "\n"
   ]
  },
  {
   "cell_type": "code",
   "execution_count": null,
   "metadata": {},
   "outputs": [],
   "source": [
    "#| include: false\n",
    "from nbdev.showdoc import *"
   ]
  },
  {
   "cell_type": "code",
   "execution_count": null,
   "metadata": {},
   "outputs": [],
   "source": [
    "#| include: false\n",
    "import sys\n",
    "\n",
    "sys.path.append(\"..\")"
   ]
  },
  {
   "cell_type": "code",
   "execution_count": null,
   "metadata": {},
   "outputs": [],
   "source": [
    "#| include: false\n",
    "from gps_time.core import *\n",
    "import datetime"
   ]
  },
  {
   "cell_type": "markdown",
   "metadata": {},
   "source": [
    "This module is used to represent GPS time and provide tools for handling it. The tools developed here were originally made in pure python, but were later converted to jupyter notebooks using `nbdev`. The goal is to provide an absolute time representation for python that is easer to use for scientific computing and with higher resolution than the built-in `datetime`."
   ]
  },
  {
   "cell_type": "markdown",
   "metadata": {},
   "source": [
    "## Install\n",
    "\n",
    "Installation can be achieved using `pip`, specifically\n",
    "```bash\n",
    "pip install gps-time\n",
    "```"
   ]
  },
  {
   "cell_type": "markdown",
   "metadata": {},
   "source": [
    "## How to use"
   ]
  },
  {
   "cell_type": "markdown",
   "metadata": {},
   "source": [
    "This module is relatively straightfoward to use. The `GPSTime` objects are generated (using arbitrary numbers) by"
   ]
  },
  {
   "cell_type": "code",
   "execution_count": null,
   "metadata": {},
   "outputs": [],
   "source": [
    "gps_time1 = GPSTime(week_number=1872, time_of_week=3324.654324324234324)\n",
    "gps_time2 = GPSTime(week_number=1875, time_of_week=9890874.32)"
   ]
  },
  {
   "cell_type": "markdown",
   "metadata": {},
   "source": [
    "Notice that the time of week for `gps_time2` is longer than a week. The `GPSTime` object will automatically adjust the week number and time of week to reasonable values."
   ]
  },
  {
   "cell_type": "code",
   "execution_count": null,
   "metadata": {},
   "outputs": [
    {
     "data": {
      "text/plain": [
       "GPSTime(week_number=1891, time_of_week=214074.3200000003)"
      ]
     },
     "execution_count": null,
     "metadata": {},
     "output_type": "execute_result"
    }
   ],
   "source": [
    "gps_time2"
   ]
  },
  {
   "cell_type": "markdown",
   "metadata": {},
   "source": [
    "### Conversion\n",
    "\n",
    "The `GPSTime` objects can also created from `datetime.datetime` objects"
   ]
  },
  {
   "cell_type": "code",
   "execution_count": null,
   "metadata": {},
   "outputs": [
    {
     "name": "stdout",
     "output_type": "stream",
     "text": [
      "GPSTime(week_number=1964, time_of_week=566592.211423)\n"
     ]
    }
   ],
   "source": [
    "gps_time3 = GPSTime.from_datetime(datetime.datetime(2017, 9, 2, 13, 23, 12, 211423))\n",
    "print(gps_time3)"
   ]
  },
  {
   "cell_type": "markdown",
   "metadata": {},
   "source": [
    "`GPSTime` can likewise be converted to `datetime.datetime` object. However, one must be careful because `datetime.datetime` objects only preserve microsecond resolution. Converting from `GPSTime` to `datetime.datetime` can lose information. The opposite conversion does not lose information."
   ]
  },
  {
   "cell_type": "code",
   "execution_count": null,
   "metadata": {},
   "outputs": [
    {
     "name": "stdout",
     "output_type": "stream",
     "text": [
      "GPS Time: GPSTime(week_number=1872, time_of_week=3324.6543243242345)\n",
      "Datetime: 2015-11-22 00:55:24.654324\n",
      "\n",
      "Lost Precision: 3.2423440643469803e-07\n"
     ]
    }
   ],
   "source": [
    "print(f\"GPS Time: {gps_time1}\")\n",
    "print(f\"Datetime: {gps_time1.to_datetime()}\")\n",
    "print(\"\")\n",
    "print(f\"Lost Precision: {gps_time1 - GPSTime.from_datetime(gps_time1.to_datetime())}\")"
   ]
  },
  {
   "cell_type": "markdown",
   "metadata": {},
   "source": [
    "### Operators\n",
    "`GPSTime` has comparison operators defined (equality, less than, etc.). It also has addition and subtraction defined. In general, one can add/subtract either `float`s or other `GPSTime`s.\n",
    "\n",
    "For floats, it is interpreted as a time shift in seconds (forward for addition, backward for subtraction). This operation accounts for the time of week. In-place addition and subtraction, i.e. the `+=` and `-=` operators are supported for floats."
   ]
  },
  {
   "cell_type": "code",
   "execution_count": null,
   "metadata": {},
   "outputs": [
    {
     "name": "stdout",
     "output_type": "stream",
     "text": [
      "Addition (float):    GPSTime(week_number=1930, time_of_week=57997.64429999888)\n",
      "Subtraction (float): GPSTime(week_number=1852, time_of_week=370150.9957000017)\n"
     ]
    }
   ],
   "source": [
    "time_shift_seconds = 23431123.3243\n",
    "\n",
    "print(f\"Addition (float):    {gps_time2 + time_shift_seconds}\")\n",
    "print(f\"Subtraction (float): {gps_time2 - time_shift_seconds}\")"
   ]
  },
  {
   "cell_type": "markdown",
   "metadata": {},
   "source": [
    "Alternatively, addition and subtraction can be done using two `GPSTime` objects. Subtraction finds the time difference in seconds (as a float). Addition essentially sums the week numbers and times of week. Notice that in-place addition and subtraction are not supported for two `GPSTime` objects."
   ]
  },
  {
   "cell_type": "code",
   "execution_count": null,
   "metadata": {},
   "outputs": [
    {
     "name": "stdout",
     "output_type": "stream",
     "text": [
      "Addition (GPSTime):    GPSTime(week_number=3763, time_of_week=217398.97432432455)\n",
      "Subtraction (GPSTime): 11701949.665675675\n"
     ]
    }
   ],
   "source": [
    "print(f\"Addition (GPSTime):    {gps_time2 + gps_time1}\")\n",
    "print(f\"Subtraction (GPSTime): {gps_time2 - gps_time1}\")"
   ]
  },
  {
   "cell_type": "markdown",
   "metadata": {},
   "source": [
    "## License\n",
    "\n",
    "Copyright (2020) The Aerospace Corporation. All Rights Reserved\n",
    "\n",
    "The `gps_time` module releasded under the Apache2 license.\n",
    "\n",
    "### Open Source Licenses\n",
    "This module is built on the `nbdev` template, which is used under the Apache2 license.\n"
   ]
  },
  {
   "cell_type": "markdown",
   "metadata": {},
   "source": [
    "## Formatting\n",
    "\n",
    "As much as possible for jupyter notebooks, the [black](https://black.readthedocs.io/en/stable/) formatting standard will be used. To apply black to jupyter notebooks, the [jupyter-black](https://github.com/drillan/jupyter-black) extension can be used."
   ]
  },
  {
   "cell_type": "code",
   "execution_count": null,
   "metadata": {},
   "outputs": [],
   "source": []
  }
 ],
 "metadata": {
  "kernelspec": {
   "display_name": "Python 3",
   "language": "python",
   "name": "python3"
  }
 },
 "nbformat": 4,
 "nbformat_minor": 4
}
