{
 "cells": [
  {
   "cell_type": "code",
   "execution_count": null,
   "metadata": {},
   "outputs": [],
   "source": [
    "#| hide\n",
    "from gps_time.core import *\n",
    "import datetime"
   ]
  },
  {
   "cell_type": "markdown",
   "metadata": {},
   "source": [
    "# gps_time\n",
    "\n",
    "> This module is used to represent GPS time and provide tools for handling it. It is an alternative to the python built-in datetime module that is easier to use for scientific computing."
   ]
  },
  {
   "cell_type": "markdown",
   "metadata": {},
   "source": [
    "This file will become your README and also the index of your documentation."
   ]
  },
  {
   "cell_type": "markdown",
   "metadata": {},
   "source": [
    "## Breaking Change\n",
    "Prior to version 3.x, `gps_time` did not include any timezone information, i.e. all datetimes used by `gps_time` were \"naive\". This could lead to errors for versions of python that default to \"aware\" datetime objects. In version 3, `gps_time` is updated to function using aware datetime objects. If you pass `gps_time` a naive datetime, it will assume that it is meant to represent UTC time. As this was the expected behavior, there should be minimal impact, but this may result in errors to existing code bases."
   ]
  },
  {
   "cell_type": "markdown",
   "metadata": {},
   "source": [
    "## Install"
   ]
  },
  {
   "cell_type": "markdown",
   "metadata": {},
   "source": [
    "Installation can be achieved using `pip`, specifically\n",
    "\n",
    "```sh\n",
    "pip install gps_time\n",
    "```"
   ]
  },
  {
   "cell_type": "markdown",
   "metadata": {},
   "source": [
    "## How to use"
   ]
  },
  {
   "cell_type": "markdown",
   "metadata": {},
   "source": [
    "This module is relatively straightfoward to use. The `GPSTime` objects are generated (using arbitrary numbers) by"
   ]
  },
  {
   "cell_type": "code",
   "execution_count": null,
   "metadata": {},
   "outputs": [
    {
     "data": {
      "text/plain": [
       "2"
      ]
     },
     "execution_count": null,
     "metadata": {},
     "output_type": "execute_result"
    }
   ],
   "source": [
    "gps_time1 = GPSTime(week_number=1872, time_of_week=3324.654324324234324)\n",
    "gps_time2 = GPSTime(week_number=1875, time_of_week=9890874.32)"
   ]
  },
  {
   "cell_type": "markdown",
   "metadata": {},
   "source": [
    "Notice that the time of week for `gps_time2` is longer than a week. The `GPSTime` object will automatically adjust the week number and time of week to reasonable values."
   ]
  },
  {
   "cell_type": "code",
   "execution_count": null,
   "metadata": {},
   "outputs": [],
   "source": [
    "print(gps_time2)"
   ]
  },
  {
   "cell_type": "markdown",
   "metadata": {},
   "source": [
    "### Conversion\n",
    "\n",
    "The `GPSTime` objects can also created from `datetime.datetime` objects"
   ]
  },
  {
   "cell_type": "markdown",
   "metadata": {},
   "source": [
    "gps_time3 = GPSTime.from_datetime(datetime.datetime(2017, 9, 2, 13, 23, 12, 211423))\n",
    "print(gps_time3)"
   ]
  },
  {
   "cell_type": "markdown",
   "metadata": {},
   "source": [
    "`GPSTime` can likewise be converted to `datetime.datetime` object. However, one must be careful because `datetime.datetime` objects only preserve microsecond resolution. Converting from `GPSTime` to `datetime.datetime` can lose information. The opposite conversion does not lose information."
   ]
  },
  {
   "cell_type": "code",
   "execution_count": null,
   "metadata": {},
   "outputs": [],
   "source": [
    "print(f\"GPS Time: {gps_time1}\")\n",
    "print(f\"Datetime: {gps_time1.to_datetime()}\")\n",
    "print(\"\")\n",
    "print(f\"Lost Precision: {gps_time1 - GPSTime.from_datetime(gps_time1.to_datetime())}\")"
   ]
  },
  {
   "cell_type": "markdown",
   "metadata": {},
   "source": [
    "### Operators\n",
    "`GPSTime` has comparison operators defined (equality, less than, etc.). It also has addition and subtraction defined. In general, one can add/subtract either `float`s or other `GPSTime`s.\n",
    "\n",
    "For floats, it is interpreted as a time shift in seconds (forward for addition, backward for subtraction). This operation accounts for the time of week. In-place addition and subtraction, i.e. the `+=` and `-=` operators are supported for floats."
   ]
  },
  {
   "cell_type": "code",
   "execution_count": null,
   "metadata": {},
   "outputs": [],
   "source": [
    "time_shift_seconds = 23431123.3243\n",
    "\n",
    "print(f\"Addition (float):    {gps_time2 + time_shift_seconds}\")\n",
    "print(f\"Subtraction (float): {gps_time2 - time_shift_seconds}\")"
   ]
  },
  {
   "cell_type": "markdown",
   "metadata": {},
   "source": [
    "Alternatively, addition and subtraction can be done using two `GPSTime` objects. Subtraction finds the time difference in seconds (as a float). Addition essentially sums the week numbers and times of week. Notice that in-place addition and subtraction are not supported for two `GPSTime` objects."
   ]
  },
  {
   "cell_type": "code",
   "execution_count": null,
   "metadata": {},
   "outputs": [],
   "source": [
    "print(f\"Addition (GPSTime):    {gps_time2 + gps_time1}\")\n",
    "print(f\"Subtraction (GPSTime): {gps_time2 - gps_time1}\")"
   ]
  },
  {
   "cell_type": "markdown",
   "metadata": {},
   "source": [
    "## License\n",
    "\n",
    "Copyright (2020) The Aerospace Corporation. All Rights Reserved\n",
    "\n",
    "The `gps_time` module releasded under the Apache2 license.\n",
    "\n",
    "### Open Source Licenses\n",
    "This module is built on the `nbdev` template, which is used under the Apache2 license.\n",
    "\n",
    "## Formatting\n",
    "\n",
    "As much as possible for jupyter notebooks, the [black](https://black.readthedocs.io/en/stable/) formatting standard will be used. To apply black to jupyter notebooks, the [jupyter-black](https://github.com/drillan/jupyter-black) extension can be used."
   ]
  },
  {
   "cell_type": "markdown",
   "metadata": {},
   "source": []
  }
 ],
 "metadata": {
  "kernelspec": {
   "display_name": "python3",
   "language": "python",
   "name": "python3"
  },
  "language_info": {
   "name": "python",
   "version": "3.11.9"
  }
 },
 "nbformat": 4,
 "nbformat_minor": 4
}
